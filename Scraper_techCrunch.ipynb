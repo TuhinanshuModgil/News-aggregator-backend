{
 "cells": [
  {
   "cell_type": "code",
   "execution_count": 575,
   "id": "c4e5e15b-fde8-47a8-bd4a-cc3337d4ea1f",
   "metadata": {},
   "outputs": [],
   "source": [
    "import requests"
   ]
  },
  {
   "cell_type": "code",
   "execution_count": 576,
   "id": "e0314fcb-60da-461c-830b-5bb96b6871be",
   "metadata": {},
   "outputs": [],
   "source": [
    "from bs4 import BeautifulSoup"
   ]
  },
  {
   "cell_type": "code",
   "execution_count": 577,
   "id": "fc29cc90-b412-4d23-a308-f183fd8ffd33",
   "metadata": {},
   "outputs": [],
   "source": [
    "topics_url = 'https://techcrunch.com/'"
   ]
  },
  {
   "cell_type": "code",
   "execution_count": 578,
   "id": "64e2ba2c-7db2-4672-a543-7dbfc766e4de",
   "metadata": {},
   "outputs": [],
   "source": [
    "response = requests.get(topics_url)"
   ]
  },
  {
   "cell_type": "code",
   "execution_count": 579,
   "id": "089a92e4-7e97-4ba7-a2a6-7dc2abd1e492",
   "metadata": {},
   "outputs": [
    {
     "data": {
      "text/plain": [
       "200"
      ]
     },
     "execution_count": 579,
     "metadata": {},
     "output_type": "execute_result"
    }
   ],
   "source": [
    "response.status_code"
   ]
  },
  {
   "cell_type": "code",
   "execution_count": 580,
   "id": "2480d712-77bf-4e02-bab0-f66aa581df80",
   "metadata": {},
   "outputs": [
    {
     "data": {
      "text/plain": [
       "221707"
      ]
     },
     "execution_count": 580,
     "metadata": {},
     "output_type": "execute_result"
    }
   ],
   "source": [
    "len(response.text)"
   ]
  },
  {
   "cell_type": "code",
   "execution_count": 581,
   "id": "1a188b08-09ba-4e3a-bbed-bd47e2df4e2b",
   "metadata": {},
   "outputs": [],
   "source": [
    "page_contents = response.text"
   ]
  },
  {
   "cell_type": "code",
   "execution_count": 582,
   "id": "d182a0a3-28f0-4e90-8470-f20c2815d2c9",
   "metadata": {},
   "outputs": [
    {
     "data": {
      "text/plain": [
       "'<!DOCTYPE html>\\n<html lang=\"en-US\">\\n<head>\\n\\t<meta charset=\"UTF-8\" />\\n\\t<script>(function(html){html.className = html.className.replace(/\\\\bno-js\\\\b/,\\'js\\')})(document.documentElement);</script>\\n<meta name=\"viewport\" content=\"width=device-width, initial-scale=1\" />\\n<meta name=\\'robots\\' content=\\'index, follow, max-image-preview:large, max-snippet:-1, max-video-preview:-1\\' />\\n\\n\\t<!-- This site is optimized with the Yoast SEO Premium plugin v22.3 (Yoast SEO v22.6) - https://yoast.com/wordpress/plugins/seo/ -->\\n\\t<meta name=\"description\" content=\"TechCrunch | Reporting on the business of technology, startups, venture capital funding, and Silicon Valley\" />\\n\\t<link rel=\"canonical\" href=\"https://techcrunch.com/\" />\\n\\t<link rel=\"next\" href=\"https://techcrunch.com/page/2/\" />\\n\\t<meta property=\"og:locale\" content=\"en_US\" />\\n\\t<meta property=\"og:type\" content=\"website\" />\\n\\t<meta property=\"og:title\" content=\"TechCrunch | Startup and Technology News\" />\\n\\t<meta property=\"og:description\" content=\"TechCrunch | R'"
      ]
     },
     "execution_count": 582,
     "metadata": {},
     "output_type": "execute_result"
    }
   ],
   "source": [
    "page_contents[:1000]\n"
   ]
  },
  {
   "cell_type": "code",
   "execution_count": 583,
   "id": "e74615ef-20d9-4e2e-8c09-a9eb72dfedfe",
   "metadata": {},
   "outputs": [],
   "source": [
    "with open('webpage.html', 'w') as f:\n",
    "    f.write(page_contents)"
   ]
  },
  {
   "cell_type": "code",
   "execution_count": 584,
   "id": "b1cd3cd3-4989-4602-b544-a8b32631b6ac",
   "metadata": {},
   "outputs": [],
   "source": [
    "doc = BeautifulSoup(page_contents, 'html.parser')\n"
   ]
  },
  {
   "cell_type": "code",
   "execution_count": 585,
   "id": "2ab87131-63ca-4014-90f4-1fab2ff37df1",
   "metadata": {},
   "outputs": [],
   "source": [
    " # selection_class = 'has-small-font-size wp-block-navigation-item wp-block-navigation-link'\n",
    "selection_class ='wp-block-navigation-item__label'\n",
    "topic_titles = doc.find_all('span' , {'class': selection_class} )[1:24]\n"
   ]
  },
  {
   "cell_type": "code",
   "execution_count": 586,
   "id": "cbe392d9-929e-414f-ad5a-a395b050dfec",
   "metadata": {},
   "outputs": [
    {
     "data": {
      "text/plain": [
       "23"
      ]
     },
     "execution_count": 586,
     "metadata": {},
     "output_type": "execute_result"
    }
   ],
   "source": [
    "len(topic_titles)"
   ]
  },
  {
   "cell_type": "code",
   "execution_count": 587,
   "id": "884c5c03-5333-43ad-8a6b-9fb43e2b9b86",
   "metadata": {},
   "outputs": [
    {
     "data": {
      "text/plain": [
       "[<span class=\"wp-block-navigation-item__label\">Startups</span>,\n",
       " <span class=\"wp-block-navigation-item__label\">Venture</span>,\n",
       " <span class=\"wp-block-navigation-item__label\">Apple</span>,\n",
       " <span class=\"wp-block-navigation-item__label\">Security</span>,\n",
       " <span class=\"wp-block-navigation-item__label\">AI</span>,\n",
       " <span class=\"wp-block-navigation-item__label\">Apps</span>,\n",
       " <span class=\"wp-block-navigation-item__label\">Events</span>,\n",
       " <span class=\"wp-block-navigation-item__label\">Startup Battlefield</span>,\n",
       " <span class=\"wp-block-navigation-item__label\">More</span>,\n",
       " <span class=\"wp-block-navigation-item__label\">Fintech</span>,\n",
       " <span class=\"wp-block-navigation-item__label\">Cloud Computing</span>,\n",
       " <span class=\"wp-block-navigation-item__label\">Layoffs</span>,\n",
       " <span class=\"wp-block-navigation-item__label\">Hardware</span>,\n",
       " <span class=\"wp-block-navigation-item__label\">Google</span>,\n",
       " <span class=\"wp-block-navigation-item__label\">Microsoft</span>,\n",
       " <span class=\"wp-block-navigation-item__label\">Transportation</span>,\n",
       " <span class=\"wp-block-navigation-item__label\">EVs</span>,\n",
       " <span class=\"wp-block-navigation-item__label\">Meta</span>,\n",
       " <span class=\"wp-block-navigation-item__label\">Instagram</span>,\n",
       " <span class=\"wp-block-navigation-item__label\">Amazon</span>,\n",
       " <span class=\"wp-block-navigation-item__label\">TikTok</span>,\n",
       " <span class=\"wp-block-navigation-item__label\">Newsletters</span>,\n",
       " <span class=\"wp-block-navigation-item__label\">Podcasts</span>]"
      ]
     },
     "execution_count": 587,
     "metadata": {},
     "output_type": "execute_result"
    }
   ],
   "source": [
    "topic_titles\n"
   ]
  },
  {
   "cell_type": "code",
   "execution_count": 588,
   "id": "12b08f9c-289e-433e-b26d-d95fe5522c32",
   "metadata": {},
   "outputs": [
    {
     "name": "stdout",
     "output_type": "stream",
     "text": [
      "['Startups', 'Venture', 'Apple', 'Security', 'AI', 'Apps', 'Events', 'Startup Battlefield', 'Fintech', 'Cloud Computing', 'Layoffs', 'Hardware', 'Google', 'Microsoft', 'Transportation', 'EVs', 'Meta', 'Instagram', 'Amazon', 'TikTok', 'Newsletters', 'Podcasts']\n"
     ]
    }
   ],
   "source": [
    "\n",
    "topic_titles_final = []\n",
    "\n",
    "for tag in topic_titles:\n",
    "    if tag.text == 'More':  \n",
    "        continue  \n",
    "    topic_titles_final.append(tag.text)\n",
    "\n",
    "print(topic_titles_final)\n"
   ]
  },
  {
   "cell_type": "code",
   "execution_count": 589,
   "id": "69584e08-1529-4ca0-9f8a-19da0812fbbb",
   "metadata": {},
   "outputs": [
    {
     "data": {
      "text/plain": [
       "22"
      ]
     },
     "execution_count": 589,
     "metadata": {},
     "output_type": "execute_result"
    }
   ],
   "source": [
    "len(topic_titles_final)"
   ]
  },
  {
   "cell_type": "code",
   "execution_count": 590,
   "id": "2265835c-b634-4fe9-a9d9-f8eebe84eb3e",
   "metadata": {},
   "outputs": [],
   "source": [
    "topic_title_tag0 = topic_titles[0]"
   ]
  },
  {
   "cell_type": "code",
   "execution_count": 591,
   "id": "c311141e-1bb2-47d6-a778-06ce12532d3b",
   "metadata": {},
   "outputs": [],
   "source": [
    "topic_link_tags = doc.find_all('a', {'class': 'wp-block-navigation-item__content'})[1:23]"
   ]
  },
  {
   "cell_type": "code",
   "execution_count": 592,
   "id": "201fc58f-45c7-4179-b9ac-34a471004ac0",
   "metadata": {},
   "outputs": [
    {
     "data": {
      "text/plain": [
       "22"
      ]
     },
     "execution_count": 592,
     "metadata": {},
     "output_type": "execute_result"
    }
   ],
   "source": [
    "len(topic_link_tags)"
   ]
  },
  {
   "cell_type": "code",
   "execution_count": 593,
   "id": "d74faca4-8b73-4b64-84cc-3ee7905bc4c7",
   "metadata": {},
   "outputs": [
    {
     "data": {
      "text/plain": [
       "<a class=\"wp-block-navigation-item__content\" data-ctatext=\"Startups\" data-destinationlink=\"/category/startups/\" data-event=\"navigation\" href=\"/category/startups/\"><span class=\"wp-block-navigation-item__label\">Startups</span></a>"
      ]
     },
     "execution_count": 593,
     "metadata": {},
     "output_type": "execute_result"
    }
   ],
   "source": [
    "topic_link_tags[0]"
   ]
  },
  {
   "cell_type": "code",
   "execution_count": 594,
   "id": "b6c9a487-e637-456d-8f63-f93d8bb048d7",
   "metadata": {},
   "outputs": [
    {
     "name": "stdout",
     "output_type": "stream",
     "text": [
      "https://techcrunch.com//category/startups/\n"
     ]
    }
   ],
   "source": [
    "topic0_url = \"https://techcrunch.com/\" + topic_link_tags[0]['href']\n",
    "print(topic0_url)"
   ]
  },
  {
   "cell_type": "code",
   "execution_count": 595,
   "id": "b2088862-c99f-495a-9be3-51dc5b6ba047",
   "metadata": {},
   "outputs": [
    {
     "name": "stdout",
     "output_type": "stream",
     "text": [
      "['https://techcrunch.com/category/startups/', 'https://techcrunch.com/category/venture/', 'https://techcrunch.com/tag/apple/', 'https://techcrunch.com/category/security/', 'https://techcrunch.com/category/artificial-intelligence/', 'https://techcrunch.com/category/apps/', 'https://techcrunch.com/events/', 'https://techcrunch.com/startup-battlefield/', 'https://techcrunch.com/category/fintech/', 'https://techcrunch.com/tag/cloud-computing/', 'https://techcrunch.com/tag/layoffs/', 'https://techcrunch.com/category/hardware/', 'https://techcrunch.com/tag/google/', 'https://techcrunch.com/tag/microsoft/', 'https://techcrunch.com/category/transportation/', 'https://techcrunch.com/tag/evs/', 'https://techcrunch.com/tag/meta/', 'https://techcrunch.com/tag/instagram/', 'https://techcrunch.com/tag/amazon/', 'https://techcrunch.com/tag/tiktok/', 'https://techcrunch.com/newsletters/', 'https://techcrunch.com/podcasts/']\n"
     ]
    }
   ],
   "source": [
    "\n",
    "    \n",
    "# topic_urls\n",
    "from urllib.parse import urljoin\n",
    "\n",
    "# Define base URL\n",
    "base_url = 'https://techcrunch.com/'\n",
    "\n",
    "# Initialize an empty list to store full URLs\n",
    "topic_urls = []\n",
    "\n",
    "# Iterate over each tag to extract the URL\n",
    "for tag in topic_link_tags:\n",
    "    href = tag['href']\n",
    "    \n",
    "    # Use urljoin to handle relative and absolute URLs\n",
    "    full_url = urljoin(base_url, href)\n",
    "    \n",
    "    # Append the full URL to the list\n",
    "    topic_urls.append(full_url)\n",
    "\n",
    "# Print the resulting list of URLs\n",
    "print(topic_urls)\n"
   ]
  },
  {
   "cell_type": "code",
   "execution_count": 596,
   "id": "46e5c43f-6e73-40b0-9e63-4613b2f9a805",
   "metadata": {},
   "outputs": [],
   "source": [
    "import pandas as pd"
   ]
  },
  {
   "cell_type": "code",
   "execution_count": 597,
   "id": "443db6bb-b6db-47fc-be00-623a0b945404",
   "metadata": {},
   "outputs": [
    {
     "data": {
      "text/plain": [
       "22"
      ]
     },
     "execution_count": 597,
     "metadata": {},
     "output_type": "execute_result"
    }
   ],
   "source": [
    "len(topic_titles_final)"
   ]
  },
  {
   "cell_type": "code",
   "execution_count": 598,
   "id": "7d573b61-9747-4f1a-878d-08b538b52387",
   "metadata": {},
   "outputs": [
    {
     "data": {
      "text/plain": [
       "22"
      ]
     },
     "execution_count": 598,
     "metadata": {},
     "output_type": "execute_result"
    }
   ],
   "source": [
    "len(topic_urls)"
   ]
  },
  {
   "cell_type": "code",
   "execution_count": 599,
   "id": "d003ec40-9892-4cd4-98e8-dc39d527b503",
   "metadata": {},
   "outputs": [
    {
     "name": "stdout",
     "output_type": "stream",
     "text": [
      "                  title                                                url\n",
      "0              Startups          https://techcrunch.com/category/startups/\n",
      "1               Venture           https://techcrunch.com/category/venture/\n",
      "2                 Apple                  https://techcrunch.com/tag/apple/\n",
      "3              Security          https://techcrunch.com/category/security/\n",
      "4                    AI  https://techcrunch.com/category/artificial-int...\n",
      "5                  Apps              https://techcrunch.com/category/apps/\n",
      "6                Events                     https://techcrunch.com/events/\n",
      "7   Startup Battlefield        https://techcrunch.com/startup-battlefield/\n",
      "8               Fintech           https://techcrunch.com/category/fintech/\n",
      "9       Cloud Computing        https://techcrunch.com/tag/cloud-computing/\n",
      "10              Layoffs                https://techcrunch.com/tag/layoffs/\n",
      "11             Hardware          https://techcrunch.com/category/hardware/\n",
      "12               Google                 https://techcrunch.com/tag/google/\n",
      "13            Microsoft              https://techcrunch.com/tag/microsoft/\n",
      "14       Transportation    https://techcrunch.com/category/transportation/\n",
      "15                  EVs                    https://techcrunch.com/tag/evs/\n",
      "16                 Meta                   https://techcrunch.com/tag/meta/\n",
      "17            Instagram              https://techcrunch.com/tag/instagram/\n",
      "18               Amazon                 https://techcrunch.com/tag/amazon/\n",
      "19               TikTok                 https://techcrunch.com/tag/tiktok/\n",
      "20          Newsletters                https://techcrunch.com/newsletters/\n",
      "21             Podcasts                   https://techcrunch.com/podcasts/\n"
     ]
    }
   ],
   "source": [
    "topics_dict = {\n",
    "    'title': topic_titles_final,\n",
    "    'url': topic_urls\n",
    "}\n",
    "\n",
    "topics_df = pd.DataFrame(topics_dict)\n",
    "print(topics_df)\n"
   ]
  },
  {
   "cell_type": "code",
   "execution_count": 600,
   "id": "2583afeb-9df9-4767-b8d6-54c6c26b9451",
   "metadata": {},
   "outputs": [
    {
     "data": {
      "text/plain": [
       "{'title': ['Startups',\n",
       "  'Venture',\n",
       "  'Apple',\n",
       "  'Security',\n",
       "  'AI',\n",
       "  'Apps',\n",
       "  'Events',\n",
       "  'Startup Battlefield',\n",
       "  'Fintech',\n",
       "  'Cloud Computing',\n",
       "  'Layoffs',\n",
       "  'Hardware',\n",
       "  'Google',\n",
       "  'Microsoft',\n",
       "  'Transportation',\n",
       "  'EVs',\n",
       "  'Meta',\n",
       "  'Instagram',\n",
       "  'Amazon',\n",
       "  'TikTok',\n",
       "  'Newsletters',\n",
       "  'Podcasts'],\n",
       " 'url': ['https://techcrunch.com/category/startups/',\n",
       "  'https://techcrunch.com/category/venture/',\n",
       "  'https://techcrunch.com/tag/apple/',\n",
       "  'https://techcrunch.com/category/security/',\n",
       "  'https://techcrunch.com/category/artificial-intelligence/',\n",
       "  'https://techcrunch.com/category/apps/',\n",
       "  'https://techcrunch.com/events/',\n",
       "  'https://techcrunch.com/startup-battlefield/',\n",
       "  'https://techcrunch.com/category/fintech/',\n",
       "  'https://techcrunch.com/tag/cloud-computing/',\n",
       "  'https://techcrunch.com/tag/layoffs/',\n",
       "  'https://techcrunch.com/category/hardware/',\n",
       "  'https://techcrunch.com/tag/google/',\n",
       "  'https://techcrunch.com/tag/microsoft/',\n",
       "  'https://techcrunch.com/category/transportation/',\n",
       "  'https://techcrunch.com/tag/evs/',\n",
       "  'https://techcrunch.com/tag/meta/',\n",
       "  'https://techcrunch.com/tag/instagram/',\n",
       "  'https://techcrunch.com/tag/amazon/',\n",
       "  'https://techcrunch.com/tag/tiktok/',\n",
       "  'https://techcrunch.com/newsletters/',\n",
       "  'https://techcrunch.com/podcasts/']}"
      ]
     },
     "execution_count": 600,
     "metadata": {},
     "output_type": "execute_result"
    }
   ],
   "source": [
    "topics_dict"
   ]
  },
  {
   "cell_type": "code",
   "execution_count": 601,
   "id": "ced2cedf-6648-49c0-8b57-f5d42590409d",
   "metadata": {},
   "outputs": [],
   "source": [
    "topics_df = pd.DataFrame(topics_dict)"
   ]
  },
  {
   "cell_type": "code",
   "execution_count": 602,
   "id": "28e264de-5665-4e8c-9fd7-c428a667d64c",
   "metadata": {},
   "outputs": [],
   "source": [
    "topics_df.to_csv('topics.csv', index=None)"
   ]
  },
  {
   "cell_type": "code",
   "execution_count": 603,
   "id": "6de935ad-3acb-4eb6-a73f-6841764d0b60",
   "metadata": {},
   "outputs": [],
   "source": [
    "\n",
    "topic_repos_dict = {\n",
    "    'articleName': [],\n",
    "    'repo_url': [],\n",
    "    'date': [],\n",
    "    'text': []\n",
    "}\n",
    "\n",
    "# Loop through each topic URL\n",
    "for topic_url in topic_urls:\n",
    "    response = requests.get(topic_url)\n",
    "    \n",
    "    if response.status_code != 200:\n",
    "        print(f\"Failed to retrieve {topic_url}\")\n",
    "        continue\n",
    "    \n",
    "    topic_doc = BeautifulSoup(response.text, 'html.parser')\n",
    "    h2_selection_class = 'has-link-color wp-block-post-title has-h-5-font-size wp-elements-565fa7bab0152bfdca0217543865c205'\n",
    "    repo_tags = topic_doc.find_all('h2', {'class': h2_selection_class})\n",
    "    \n",
    "    # Function to extract repo info\n",
    "    def get_repo_info(h2_tag):\n",
    "        a_tag = h2_tag.find('a')\n",
    "        if not a_tag:\n",
    "            return None, None\n",
    "        username = a_tag.text.strip()\n",
    "        repo_url = a_tag['href']\n",
    "        return username, repo_url\n",
    "\n",
    "    # Process each repo/article (limited to first 5 articles for each topic)\n",
    "    for j in range(min(len(repo_tags), 5)):\n",
    "        repo_info = get_repo_info(repo_tags[j])\n",
    "        if not repo_info[1]:  # Skip if repo_url is None\n",
    "            continue\n",
    "        \n",
    "        topic_repos_dict['articleName'].append(repo_info[0])\n",
    "        topic_repos_dict['repo_url'].append(repo_info[1])\n",
    "\n",
    "        # Fetch the article page\n",
    "        article_url = repo_info[1]\n",
    "        article_response = requests.get(article_url)\n",
    "        \n",
    "        if article_response.status_code != 200:\n",
    "            print(f\"Failed to retrieve article: {article_url}\")\n",
    "            continue\n",
    "        \n",
    "        article_doc = BeautifulSoup(article_response.text, 'html.parser')\n",
    "        \n",
    "        # Extract article text\n",
    "        p_selection_class = 'wp-block-paragraph'\n",
    "        article_tags = article_doc.find_all('p', {'class': p_selection_class})\n",
    "        article_text = ' '.join(tag.get_text(strip=True) for tag in article_tags)\n",
    "        \n",
    "        # Extract article date\n",
    "        time_tags = article_doc.find_all('time')\n",
    "        article_date = time_tags[0].text.strip() if time_tags else \"No date found\"\n",
    "        \n",
    "        # Append the article info\n",
    "        topic_repos_dict['date'].append(article_date)\n",
    "        topic_repos_dict['text'].append(article_text)\n",
    "\n",
    "# Now topic_repos_dict should have the scraped data\n",
    "\n"
   ]
  },
  {
   "cell_type": "code",
   "execution_count": 605,
   "id": "9a7d1e11-e6b7-4493-8c22-ff0040da8f5e",
   "metadata": {},
   "outputs": [
    {
     "name": "stdout",
     "output_type": "stream",
     "text": [
      "CSV file created successfully!\n"
     ]
    }
   ],
   "source": [
    "\n",
    "\n",
    "import pandas as pd\n",
    "\n",
    "# Combine dictionaries into a single dataframe\n",
    "final_dict = {\n",
    "    'topic_title': [],\n",
    "    'article_title': [],\n",
    "    'article_url': [],\n",
    "    'article_date': [],\n",
    "    'article_text': []\n",
    "}\n",
    "\n",
    "# Define number of articles per topic dynamically\n",
    "articles_per_topic = 5\n",
    "num_topics = len(topics_dict['title'])\n",
    "\n",
    "# Ensure the topic_repos_dict contains enough data\n",
    "total_articles = len(topic_repos_dict['articleName'])\n",
    "\n",
    "# Iterate over topics\n",
    "for i in range(num_topics):\n",
    "    topic_title_draft = topics_dict['title'][i]\n",
    "    \n",
    "    start_index = i * articles_per_topic\n",
    "    end_index = min(start_index + articles_per_topic, total_articles)  # Ensure no out-of-range access\n",
    "    \n",
    "    # Check if there are fewer articles for this topic\n",
    "    if start_index >= total_articles:\n",
    "        break  # If starting index exceeds total articles, break the loop\n",
    "    \n",
    "    # Loop through articles for the current topic\n",
    "    for j in range(start_index, end_index):\n",
    "        # Safeguard for missing or incomplete data\n",
    "        if j < total_articles:\n",
    "            final_dict['topic_title'].append(topic_title_draft)\n",
    "            final_dict['article_title'].append(topic_repos_dict['articleName'][j])\n",
    "            final_dict['article_url'].append(topic_repos_dict['repo_url'][j])\n",
    "            final_dict['article_date'].append(topic_repos_dict['date'][j])\n",
    "            final_dict['article_text'].append(topic_repos_dict['text'][j])\n",
    "\n",
    "# Convert the final dictionary into a DataFrame\n",
    "final_df = pd.DataFrame(final_dict)\n",
    "\n",
    "# Export the dataframe to a CSV file\n",
    "final_df.to_csv('final_articles.csv', index=False)\n",
    "\n",
    "print(\"CSV file created successfully!\")\n"
   ]
  },
  {
   "cell_type": "code",
   "execution_count": null,
   "id": "d34ec3e7-c7fa-4eed-809b-5475bf18e141",
   "metadata": {},
   "outputs": [],
   "source": []
  }
 ],
 "metadata": {
  "kernelspec": {
   "display_name": "Python (myenv)",
   "language": "python",
   "name": "myenv"
  },
  "language_info": {
   "codemirror_mode": {
    "name": "ipython",
    "version": 3
   },
   "file_extension": ".py",
   "mimetype": "text/x-python",
   "name": "python",
   "nbconvert_exporter": "python",
   "pygments_lexer": "ipython3",
   "version": "3.12.5"
  }
 },
 "nbformat": 4,
 "nbformat_minor": 5
}
