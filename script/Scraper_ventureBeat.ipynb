{
 "cells": [
  {
   "cell_type": "code",
   "execution_count": 1,
   "id": "c49a05bb-2429-4202-ba6a-1d450a7a602f",
   "metadata": {},
   "outputs": [],
   "source": [
    "import requests"
   ]
  },
  {
   "cell_type": "code",
   "execution_count": 2,
   "id": "5e2d30a2-c927-4410-9e55-5decdd5296a3",
   "metadata": {},
   "outputs": [],
   "source": [
    "from bs4 import BeautifulSoup"
   ]
  },
  {
   "cell_type": "code",
   "execution_count": 3,
   "id": "d6ab63bd-d855-47c8-b330-89e6718acdb3",
   "metadata": {},
   "outputs": [],
   "source": [
    "topics_url = 'https://venturebeat.com/'\n",
    "headers = {\n",
    "    'User-Agent': 'Mozilla/5.0 (Windows NT 10.0; Win64; x64) AppleWebKit/537.36 (KHTML, like Gecko) Chrome/58.0.3029.110 Safari/537.36'\n",
    "}\n"
   ]
  },
  {
   "cell_type": "code",
   "execution_count": 4,
   "id": "81323ed9-16c4-4f79-a33e-7705fc9abe95",
   "metadata": {},
   "outputs": [],
   "source": [
    "response = requests.get(topics_url, headers=headers)"
   ]
  },
  {
   "cell_type": "code",
   "execution_count": 5,
   "id": "b675472a-b6e8-4718-8f45-e0992c68238b",
   "metadata": {},
   "outputs": [
    {
     "data": {
      "text/plain": [
       "200"
      ]
     },
     "execution_count": 5,
     "metadata": {},
     "output_type": "execute_result"
    }
   ],
   "source": [
    "response.status_code"
   ]
  },
  {
   "cell_type": "code",
   "execution_count": 6,
   "id": "4d7ddd39-32a2-4036-a9ec-d30e1154c74d",
   "metadata": {},
   "outputs": [
    {
     "data": {
      "text/plain": [
       "161748"
      ]
     },
     "execution_count": 6,
     "metadata": {},
     "output_type": "execute_result"
    }
   ],
   "source": [
    "len(response.text)"
   ]
  },
  {
   "cell_type": "code",
   "execution_count": 7,
   "id": "868e15cd-29be-4567-a17a-3c9d449f92a1",
   "metadata": {},
   "outputs": [],
   "source": [
    "page_contents = response.text"
   ]
  },
  {
   "cell_type": "code",
   "execution_count": 8,
   "id": "53c68357-6dcb-4371-b92a-9584cc56385b",
   "metadata": {},
   "outputs": [
    {
     "data": {
      "text/plain": [
       "'<!DOCTYPE html>\\n<!--[if lt IE 7]> <html class=\"no-js ie6 oldie\" lang=\"en-US\" xmlns:og=\"http://opengraphprotocol.org/schema/\" xmlns:fb=\"http://www.facebook.com/2008/fbml\" xmlns:addthis=\"http://www.addthis.com/help/api-spec\"> <![endif]-->\\n<!--[if IE 7]>    <html class=\"no-js ie7 oldie\" lang=\"en-US\" xmlns:og=\"http://opengraphprotocol.org/schema/\" xmlns:fb=\"http://www.facebook.com/2008/fbml\" xmlns:addthis=\"http://www.addthis.com/help/api-spec\"> <![endif]-->\\n<!--[if IE 8]>    <html class=\"no-js ie8 oldie\" lang=\"en-US\" xmlns:og=\"http://opengraphprotocol.org/schema/\" xmlns:fb=\"http://www.facebook.com/2008/fbml\" xmlns:addthis=\"http://www.addthis.com/help/api-spec\"> <![endif]-->\\n<!--[if gt IE 8]><!--> <html class=\"no-js\" lang=\"en-US\" xmlns:og=\"http://opengraphprotocol.org/schema/\" xmlns:fb=\"http://www.facebook.com/2008/fbml\"> <!--<![endif]-->\\n<head profile=\"http://gmpg.org/xfn/11\">\\n\\t<meta http-equiv=\"Content-Type\" content=\"text/html; charset=UTF-8\" />\\n\\t<meta http-equiv=\"X-UA-Compatible\" content'"
      ]
     },
     "execution_count": 8,
     "metadata": {},
     "output_type": "execute_result"
    }
   ],
   "source": [
    "page_contents[:1000]"
   ]
  },
  {
   "cell_type": "code",
   "execution_count": 9,
   "id": "093a9498-277c-4413-8522-9aff4c871dd7",
   "metadata": {},
   "outputs": [],
   "source": [
    "with open('webpage.html', 'w') as f:\n",
    "    f.write(page_contents)"
   ]
  },
  {
   "cell_type": "code",
   "execution_count": 10,
   "id": "ca2c2126-0b6d-4127-8eec-5a0cc7b7e2e7",
   "metadata": {},
   "outputs": [],
   "source": [
    "doc = BeautifulSoup(page_contents, 'html.parser')"
   ]
  },
  {
   "cell_type": "code",
   "execution_count": 11,
   "id": "45022fbe-a74b-4953-8c04-362382f8c037",
   "metadata": {},
   "outputs": [],
   "source": [
    "selection_class ='dropdown-parent-link'\n",
    "topic_titles = doc.find_all('a' , {'class': selection_class} )"
   ]
  },
  {
   "cell_type": "code",
   "execution_count": 12,
   "id": "02e6382c-2828-4b46-a71f-b41b691b0357",
   "metadata": {},
   "outputs": [
    {
     "data": {
      "text/plain": [
       "5"
      ]
     },
     "execution_count": 12,
     "metadata": {},
     "output_type": "execute_result"
    }
   ],
   "source": [
    "len(topic_titles)"
   ]
  },
  {
   "cell_type": "code",
   "execution_count": 13,
   "id": "afb41083-5f2c-4474-b5af-4a42cc3ae149",
   "metadata": {},
   "outputs": [
    {
     "data": {
      "text/plain": [
       "[<a aria-haspopup=\"menu\" class=\"dropdown-parent-link\" href=\"/category/ai/\">\n",
       "                 Artificial Intelligence                                <svg class=\"dropdown-icon\" fill=\"none\" height=\"8\" viewbox=\"0 0 11 8\" width=\"11\" xmlns=\"http://www.w3.org/2000/svg\">\n",
       " <path d=\"M9.73437 1.91675L5.77391 6.08862L1.96875 1.8855\" stroke=\"white\" stroke-linecap=\"round\" stroke-width=\"2\"></path>\n",
       " </svg>\n",
       " <svg class=\"add-icon\" fill=\"none\" height=\"17\" viewbox=\"0 0 17 17\" width=\"17\" xmlns=\"http://www.w3.org/2000/svg\">\n",
       " <path clip-rule=\"evenodd\" d=\"M0.177979 8.79883C0.177979 4.38055 3.7597 0.798828 8.17798 0.798828C12.5963 0.798828 16.178 4.38055 16.178 8.79883C16.178 13.2171 12.5963 16.7988 8.17798 16.7988C3.7597 16.7988 0.177979 13.2171 0.177979 8.79883ZM8.17798 2.39883C4.64336 2.39883 1.77798 5.26421 1.77798 8.79883C1.77798 12.3335 4.64336 15.1988 8.17798 15.1988C11.7126 15.1988 14.578 12.3335 14.578 8.79883C14.578 5.26421 11.7126 2.39883 8.17798 2.39883Z\" fill=\"#172956\" fill-rule=\"evenodd\"></path>\n",
       " <path clip-rule=\"evenodd\" d=\"M8.97798 4.79883C8.97798 4.357 8.61981 3.99883 8.17798 3.99883C7.73615 3.99883 7.37798 4.357 7.37798 4.79883V7.99883H4.17798C3.73615 7.99883 3.37798 8.357 3.37798 8.79883C3.37798 9.24066 3.73615 9.59883 4.17798 9.59883H7.37798V12.7988C7.37798 13.2407 7.73615 13.5988 8.17798 13.5988C8.61981 13.5988 8.97798 13.2407 8.97798 12.7988V9.59883H12.178C12.6198 9.59883 12.978 9.24066 12.978 8.79883C12.978 8.357 12.6198 7.99883 12.178 7.99883H8.97798V4.79883Z\" fill=\"#172956\" fill-rule=\"evenodd\"></path>\n",
       " </svg>\n",
       " <svg class=\"minus-icon\" fill=\"none\" height=\"17\" viewbox=\"0 0 17 17\" width=\"17\" xmlns=\"http://www.w3.org/2000/svg\">\n",
       " <path clip-rule=\"evenodd\" d=\"M0.177979 8.79883C0.177979 4.38055 3.7597 0.798828 8.17798 0.798828C12.5963 0.798828 16.178 4.38055 16.178 8.79883C16.178 13.2171 12.5963 16.7988 8.17798 16.7988C3.7597 16.7988 0.177979 13.2171 0.177979 8.79883ZM8.17798 2.39883C4.64336 2.39883 1.77798 5.26421 1.77798 8.79883C1.77798 12.3335 4.64336 15.1988 8.17798 15.1988C11.7126 15.1988 14.578 12.3335 14.578 8.79883C14.578 5.26421 11.7126 2.39883 8.17798 2.39883Z\" fill=\"#172956\" fill-rule=\"evenodd\"></path>\n",
       " <rect fill=\"#172956\" height=\"1.6525\" rx=\"0.826252\" width=\"9.58438\" x=\"3.38574\" y=\"7.96033\"></rect>\n",
       " </svg>\n",
       " </a>,\n",
       " <a aria-haspopup=\"menu\" class=\"dropdown-parent-link\" href=\"/category/security/\">\n",
       "                 Security                                <svg class=\"dropdown-icon\" fill=\"none\" height=\"8\" viewbox=\"0 0 11 8\" width=\"11\" xmlns=\"http://www.w3.org/2000/svg\">\n",
       " <path d=\"M9.73437 1.91675L5.77391 6.08862L1.96875 1.8855\" stroke=\"white\" stroke-linecap=\"round\" stroke-width=\"2\"></path>\n",
       " </svg>\n",
       " <svg class=\"add-icon\" fill=\"none\" height=\"17\" viewbox=\"0 0 17 17\" width=\"17\" xmlns=\"http://www.w3.org/2000/svg\">\n",
       " <path clip-rule=\"evenodd\" d=\"M0.177979 8.79883C0.177979 4.38055 3.7597 0.798828 8.17798 0.798828C12.5963 0.798828 16.178 4.38055 16.178 8.79883C16.178 13.2171 12.5963 16.7988 8.17798 16.7988C3.7597 16.7988 0.177979 13.2171 0.177979 8.79883ZM8.17798 2.39883C4.64336 2.39883 1.77798 5.26421 1.77798 8.79883C1.77798 12.3335 4.64336 15.1988 8.17798 15.1988C11.7126 15.1988 14.578 12.3335 14.578 8.79883C14.578 5.26421 11.7126 2.39883 8.17798 2.39883Z\" fill=\"#172956\" fill-rule=\"evenodd\"></path>\n",
       " <path clip-rule=\"evenodd\" d=\"M8.97798 4.79883C8.97798 4.357 8.61981 3.99883 8.17798 3.99883C7.73615 3.99883 7.37798 4.357 7.37798 4.79883V7.99883H4.17798C3.73615 7.99883 3.37798 8.357 3.37798 8.79883C3.37798 9.24066 3.73615 9.59883 4.17798 9.59883H7.37798V12.7988C7.37798 13.2407 7.73615 13.5988 8.17798 13.5988C8.61981 13.5988 8.97798 13.2407 8.97798 12.7988V9.59883H12.178C12.6198 9.59883 12.978 9.24066 12.978 8.79883C12.978 8.357 12.6198 7.99883 12.178 7.99883H8.97798V4.79883Z\" fill=\"#172956\" fill-rule=\"evenodd\"></path>\n",
       " </svg>\n",
       " <svg class=\"minus-icon\" fill=\"none\" height=\"17\" viewbox=\"0 0 17 17\" width=\"17\" xmlns=\"http://www.w3.org/2000/svg\">\n",
       " <path clip-rule=\"evenodd\" d=\"M0.177979 8.79883C0.177979 4.38055 3.7597 0.798828 8.17798 0.798828C12.5963 0.798828 16.178 4.38055 16.178 8.79883C16.178 13.2171 12.5963 16.7988 8.17798 16.7988C3.7597 16.7988 0.177979 13.2171 0.177979 8.79883ZM8.17798 2.39883C4.64336 2.39883 1.77798 5.26421 1.77798 8.79883C1.77798 12.3335 4.64336 15.1988 8.17798 15.1988C11.7126 15.1988 14.578 12.3335 14.578 8.79883C14.578 5.26421 11.7126 2.39883 8.17798 2.39883Z\" fill=\"#172956\" fill-rule=\"evenodd\"></path>\n",
       " <rect fill=\"#172956\" height=\"1.6525\" rx=\"0.826252\" width=\"9.58438\" x=\"3.38574\" y=\"7.96033\"></rect>\n",
       " </svg>\n",
       " </a>,\n",
       " <a aria-haspopup=\"menu\" class=\"dropdown-parent-link\" href=\"/category/data-infrastructure/\">\n",
       "                 Data Infrastructure                                <svg class=\"dropdown-icon\" fill=\"none\" height=\"8\" viewbox=\"0 0 11 8\" width=\"11\" xmlns=\"http://www.w3.org/2000/svg\">\n",
       " <path d=\"M9.73437 1.91675L5.77391 6.08862L1.96875 1.8855\" stroke=\"white\" stroke-linecap=\"round\" stroke-width=\"2\"></path>\n",
       " </svg>\n",
       " <svg class=\"add-icon\" fill=\"none\" height=\"17\" viewbox=\"0 0 17 17\" width=\"17\" xmlns=\"http://www.w3.org/2000/svg\">\n",
       " <path clip-rule=\"evenodd\" d=\"M0.177979 8.79883C0.177979 4.38055 3.7597 0.798828 8.17798 0.798828C12.5963 0.798828 16.178 4.38055 16.178 8.79883C16.178 13.2171 12.5963 16.7988 8.17798 16.7988C3.7597 16.7988 0.177979 13.2171 0.177979 8.79883ZM8.17798 2.39883C4.64336 2.39883 1.77798 5.26421 1.77798 8.79883C1.77798 12.3335 4.64336 15.1988 8.17798 15.1988C11.7126 15.1988 14.578 12.3335 14.578 8.79883C14.578 5.26421 11.7126 2.39883 8.17798 2.39883Z\" fill=\"#172956\" fill-rule=\"evenodd\"></path>\n",
       " <path clip-rule=\"evenodd\" d=\"M8.97798 4.79883C8.97798 4.357 8.61981 3.99883 8.17798 3.99883C7.73615 3.99883 7.37798 4.357 7.37798 4.79883V7.99883H4.17798C3.73615 7.99883 3.37798 8.357 3.37798 8.79883C3.37798 9.24066 3.73615 9.59883 4.17798 9.59883H7.37798V12.7988C7.37798 13.2407 7.73615 13.5988 8.17798 13.5988C8.61981 13.5988 8.97798 13.2407 8.97798 12.7988V9.59883H12.178C12.6198 9.59883 12.978 9.24066 12.978 8.79883C12.978 8.357 12.6198 7.99883 12.178 7.99883H8.97798V4.79883Z\" fill=\"#172956\" fill-rule=\"evenodd\"></path>\n",
       " </svg>\n",
       " <svg class=\"minus-icon\" fill=\"none\" height=\"17\" viewbox=\"0 0 17 17\" width=\"17\" xmlns=\"http://www.w3.org/2000/svg\">\n",
       " <path clip-rule=\"evenodd\" d=\"M0.177979 8.79883C0.177979 4.38055 3.7597 0.798828 8.17798 0.798828C12.5963 0.798828 16.178 4.38055 16.178 8.79883C16.178 13.2171 12.5963 16.7988 8.17798 16.7988C3.7597 16.7988 0.177979 13.2171 0.177979 8.79883ZM8.17798 2.39883C4.64336 2.39883 1.77798 5.26421 1.77798 8.79883C1.77798 12.3335 4.64336 15.1988 8.17798 15.1988C11.7126 15.1988 14.578 12.3335 14.578 8.79883C14.578 5.26421 11.7126 2.39883 8.17798 2.39883Z\" fill=\"#172956\" fill-rule=\"evenodd\"></path>\n",
       " <rect fill=\"#172956\" height=\"1.6525\" rx=\"0.826252\" width=\"9.58438\" x=\"3.38574\" y=\"7.96033\"></rect>\n",
       " </svg>\n",
       " </a>,\n",
       " <a aria-haspopup=\"menu\" class=\"dropdown-parent-link\" href=\"/category/automation/\">\n",
       "                 Automation                                <svg class=\"dropdown-icon\" fill=\"none\" height=\"8\" viewbox=\"0 0 11 8\" width=\"11\" xmlns=\"http://www.w3.org/2000/svg\">\n",
       " <path d=\"M9.73437 1.91675L5.77391 6.08862L1.96875 1.8855\" stroke=\"white\" stroke-linecap=\"round\" stroke-width=\"2\"></path>\n",
       " </svg>\n",
       " <svg class=\"add-icon\" fill=\"none\" height=\"17\" viewbox=\"0 0 17 17\" width=\"17\" xmlns=\"http://www.w3.org/2000/svg\">\n",
       " <path clip-rule=\"evenodd\" d=\"M0.177979 8.79883C0.177979 4.38055 3.7597 0.798828 8.17798 0.798828C12.5963 0.798828 16.178 4.38055 16.178 8.79883C16.178 13.2171 12.5963 16.7988 8.17798 16.7988C3.7597 16.7988 0.177979 13.2171 0.177979 8.79883ZM8.17798 2.39883C4.64336 2.39883 1.77798 5.26421 1.77798 8.79883C1.77798 12.3335 4.64336 15.1988 8.17798 15.1988C11.7126 15.1988 14.578 12.3335 14.578 8.79883C14.578 5.26421 11.7126 2.39883 8.17798 2.39883Z\" fill=\"#172956\" fill-rule=\"evenodd\"></path>\n",
       " <path clip-rule=\"evenodd\" d=\"M8.97798 4.79883C8.97798 4.357 8.61981 3.99883 8.17798 3.99883C7.73615 3.99883 7.37798 4.357 7.37798 4.79883V7.99883H4.17798C3.73615 7.99883 3.37798 8.357 3.37798 8.79883C3.37798 9.24066 3.73615 9.59883 4.17798 9.59883H7.37798V12.7988C7.37798 13.2407 7.73615 13.5988 8.17798 13.5988C8.61981 13.5988 8.97798 13.2407 8.97798 12.7988V9.59883H12.178C12.6198 9.59883 12.978 9.24066 12.978 8.79883C12.978 8.357 12.6198 7.99883 12.178 7.99883H8.97798V4.79883Z\" fill=\"#172956\" fill-rule=\"evenodd\"></path>\n",
       " </svg>\n",
       " <svg class=\"minus-icon\" fill=\"none\" height=\"17\" viewbox=\"0 0 17 17\" width=\"17\" xmlns=\"http://www.w3.org/2000/svg\">\n",
       " <path clip-rule=\"evenodd\" d=\"M0.177979 8.79883C0.177979 4.38055 3.7597 0.798828 8.17798 0.798828C12.5963 0.798828 16.178 4.38055 16.178 8.79883C16.178 13.2171 12.5963 16.7988 8.17798 16.7988C3.7597 16.7988 0.177979 13.2171 0.177979 8.79883ZM8.17798 2.39883C4.64336 2.39883 1.77798 5.26421 1.77798 8.79883C1.77798 12.3335 4.64336 15.1988 8.17798 15.1988C11.7126 15.1988 14.578 12.3335 14.578 8.79883C14.578 5.26421 11.7126 2.39883 8.17798 2.39883Z\" fill=\"#172956\" fill-rule=\"evenodd\"></path>\n",
       " <rect fill=\"#172956\" height=\"1.6525\" rx=\"0.826252\" width=\"9.58438\" x=\"3.38574\" y=\"7.96033\"></rect>\n",
       " </svg>\n",
       " </a>,\n",
       " <a aria-haspopup=\"menu\" class=\"dropdown-parent-link\" href=\"/category/enterprise-analytics/\">\n",
       "                 Enterprise Analytics                                <svg class=\"dropdown-icon\" fill=\"none\" height=\"8\" viewbox=\"0 0 11 8\" width=\"11\" xmlns=\"http://www.w3.org/2000/svg\">\n",
       " <path d=\"M9.73437 1.91675L5.77391 6.08862L1.96875 1.8855\" stroke=\"white\" stroke-linecap=\"round\" stroke-width=\"2\"></path>\n",
       " </svg>\n",
       " <svg class=\"add-icon\" fill=\"none\" height=\"17\" viewbox=\"0 0 17 17\" width=\"17\" xmlns=\"http://www.w3.org/2000/svg\">\n",
       " <path clip-rule=\"evenodd\" d=\"M0.177979 8.79883C0.177979 4.38055 3.7597 0.798828 8.17798 0.798828C12.5963 0.798828 16.178 4.38055 16.178 8.79883C16.178 13.2171 12.5963 16.7988 8.17798 16.7988C3.7597 16.7988 0.177979 13.2171 0.177979 8.79883ZM8.17798 2.39883C4.64336 2.39883 1.77798 5.26421 1.77798 8.79883C1.77798 12.3335 4.64336 15.1988 8.17798 15.1988C11.7126 15.1988 14.578 12.3335 14.578 8.79883C14.578 5.26421 11.7126 2.39883 8.17798 2.39883Z\" fill=\"#172956\" fill-rule=\"evenodd\"></path>\n",
       " <path clip-rule=\"evenodd\" d=\"M8.97798 4.79883C8.97798 4.357 8.61981 3.99883 8.17798 3.99883C7.73615 3.99883 7.37798 4.357 7.37798 4.79883V7.99883H4.17798C3.73615 7.99883 3.37798 8.357 3.37798 8.79883C3.37798 9.24066 3.73615 9.59883 4.17798 9.59883H7.37798V12.7988C7.37798 13.2407 7.73615 13.5988 8.17798 13.5988C8.61981 13.5988 8.97798 13.2407 8.97798 12.7988V9.59883H12.178C12.6198 9.59883 12.978 9.24066 12.978 8.79883C12.978 8.357 12.6198 7.99883 12.178 7.99883H8.97798V4.79883Z\" fill=\"#172956\" fill-rule=\"evenodd\"></path>\n",
       " </svg>\n",
       " <svg class=\"minus-icon\" fill=\"none\" height=\"17\" viewbox=\"0 0 17 17\" width=\"17\" xmlns=\"http://www.w3.org/2000/svg\">\n",
       " <path clip-rule=\"evenodd\" d=\"M0.177979 8.79883C0.177979 4.38055 3.7597 0.798828 8.17798 0.798828C12.5963 0.798828 16.178 4.38055 16.178 8.79883C16.178 13.2171 12.5963 16.7988 8.17798 16.7988C3.7597 16.7988 0.177979 13.2171 0.177979 8.79883ZM8.17798 2.39883C4.64336 2.39883 1.77798 5.26421 1.77798 8.79883C1.77798 12.3335 4.64336 15.1988 8.17798 15.1988C11.7126 15.1988 14.578 12.3335 14.578 8.79883C14.578 5.26421 11.7126 2.39883 8.17798 2.39883Z\" fill=\"#172956\" fill-rule=\"evenodd\"></path>\n",
       " <rect fill=\"#172956\" height=\"1.6525\" rx=\"0.826252\" width=\"9.58438\" x=\"3.38574\" y=\"7.96033\"></rect>\n",
       " </svg>\n",
       " </a>]"
      ]
     },
     "execution_count": 13,
     "metadata": {},
     "output_type": "execute_result"
    }
   ],
   "source": [
    "topic_titles"
   ]
  },
  {
   "cell_type": "code",
   "execution_count": 14,
   "id": "f57d931b-6cf1-41ae-8965-117619de119e",
   "metadata": {},
   "outputs": [],
   "source": [
    "topic_titles_final = []\n",
    "# for tag in topic_titles: \n",
    "#     topic_titles_final.append(tag.text.strip())"
   ]
  },
  {
   "cell_type": "code",
   "execution_count": 15,
   "id": "3d4f8d30-8a33-4f3b-b074-878214ddc3df",
   "metadata": {},
   "outputs": [
    {
     "name": "stdout",
     "output_type": "stream",
     "text": [
      "['Artificial Intelligence', 'Security', 'Data Infrastructure', 'Automation', 'Enterprise Analytics', 'Data Decision Makers', 'Virtual Communication', 'Programming & Development']\n"
     ]
    }
   ],
   "source": [
    "for li in doc.find_all('li'):\n",
    "    # Check if the li contains a direct <a> tag and its next sibling is a <ul> tag\n",
    "  if li.find('a') and li.find('ul', class_='nested-cats'):\n",
    "    main_category = li.find('a').text.strip()  # Extract and clean text\n",
    "    if main_category not in topic_titles_final:\n",
    "       topic_titles_final.append(main_category)\n",
    "print(topic_titles_final)"
   ]
  },
  {
   "cell_type": "code",
   "execution_count": 16,
   "id": "30ba609b-c9a8-4139-98d0-f62edce07b2a",
   "metadata": {},
   "outputs": [
    {
     "data": {
      "text/plain": [
       "8"
      ]
     },
     "execution_count": 16,
     "metadata": {},
     "output_type": "execute_result"
    }
   ],
   "source": [
    "len(topic_titles_final)"
   ]
  },
  {
   "cell_type": "code",
   "execution_count": 17,
   "id": "713d9fac-13b7-467a-a1e7-83e71b558341",
   "metadata": {},
   "outputs": [],
   "source": [
    "topic_title_tag0 = topic_titles[0]"
   ]
  },
  {
   "cell_type": "code",
   "execution_count": 18,
   "id": "963d626d-8a41-4506-b8c0-742f78613c64",
   "metadata": {},
   "outputs": [],
   "source": [
    "from urllib.parse import urljoin\n",
    "\n",
    "# Define base URL\n",
    "base_url = 'https://venturebeat.com/'\n",
    "\n",
    "# Lists for categories and URLs\n",
    "title = []\n",
    "topic_urls = []\n",
    "\n",
    "# Extract categories\n",
    "for li in doc.find_all('li'):\n",
    "    if li.find('a') and li.find('ul', class_='nested-cats'):\n",
    "        main_category = li.find('a').text.strip()  # Extract and clean text\n",
    "        if main_category not in title:\n",
    "            title.append(main_category)\n",
    "\n",
    "# Extract URLs\n",
    "for li in doc.find_all('li'):\n",
    "    if li.find('a') and li.find('ul', class_='nested-cats'):\n",
    "        href = li.find('a')['href'].strip()  # Extract and clean href attribute\n",
    "        if href not in topic_urls:\n",
    "            topic_urls.append(href)\n",
    "\n",
    "# Use urljoin to form complete URLs\n",
    "full_urls = [urljoin(base_url, url.lstrip('/')) for url in topic_urls]\n",
    "\n",
    "# Ensure lists are of the same length\n",
    "min_length = min(len(title), len(full_urls))\n",
    "categories = title[:min_length]\n",
    "full_urls = full_urls[:min_length]\n",
    "\n",
    "# Create a dictionary\n",
    "topics_dict = {\n",
    "    'title': title,\n",
    "    'url': full_urls\n",
    "}\n",
    "\n"
   ]
  },
  {
   "cell_type": "code",
   "execution_count": 19,
   "id": "91ca56c2-0aa9-42f1-8f7b-ce4032b5b290",
   "metadata": {},
   "outputs": [
    {
     "data": {
      "text/plain": [
       "{'title': ['Artificial Intelligence',\n",
       "  'Security',\n",
       "  'Data Infrastructure',\n",
       "  'Automation',\n",
       "  'Enterprise Analytics',\n",
       "  'Data Decision Makers',\n",
       "  'Virtual Communication',\n",
       "  'Programming & Development'],\n",
       " 'url': ['https://venturebeat.com/category/ai/',\n",
       "  'https://venturebeat.com/category/security/',\n",
       "  'https://venturebeat.com/category/data-infrastructure/',\n",
       "  'https://venturebeat.com/category/automation/',\n",
       "  'https://venturebeat.com/category/enterprise-analytics/',\n",
       "  'https://venturebeat.com/category/datadecisionmakers/',\n",
       "  'https://venturebeat.com/category/virtual/',\n",
       "  'https://venturebeat.com/category/programming-development/']}"
      ]
     },
     "execution_count": 19,
     "metadata": {},
     "output_type": "execute_result"
    }
   ],
   "source": [
    "topics_dict"
   ]
  },
  {
   "cell_type": "code",
   "execution_count": 20,
   "id": "50ba5bc8-c98b-401d-bc7f-84d3bc9ff732",
   "metadata": {},
   "outputs": [
    {
     "name": "stdout",
     "output_type": "stream",
     "text": [
      "['https://venturebeat.com/category/ai/', 'https://venturebeat.com/category/security/', 'https://venturebeat.com/category/data-infrastructure/', 'https://venturebeat.com/category/automation/', 'https://venturebeat.com/category/enterprise-analytics/', 'https://venturebeat.com/category/datadecisionmakers/', 'https://venturebeat.com/category/virtual/', 'https://venturebeat.com/category/programming-development/']\n"
     ]
    }
   ],
   "source": [
    "print(full_urls)"
   ]
  },
  {
   "cell_type": "code",
   "execution_count": 21,
   "id": "e604a703-a043-45a3-9b0e-abbec04f59f3",
   "metadata": {},
   "outputs": [
    {
     "name": "stdout",
     "output_type": "stream",
     "text": [
      "   title                                                url\n",
      "0  title  [Artificial Intelligence, Security, Data Infra...\n",
      "1    url  [https://venturebeat.com/category/ai/, https:/...\n"
     ]
    }
   ],
   "source": [
    "import pandas as pd\n",
    "topics_list = [(title, full_urls) for title, full_urls in topics_dict.items()]\n",
    "\n",
    "# Create DataFrame\n",
    "topics_df = pd.DataFrame(topics_list, columns=['title', 'url'])\n",
    "\n",
    "# Print the DataFrame\n",
    "print(topics_df)"
   ]
  },
  {
   "cell_type": "code",
   "execution_count": 22,
   "id": "6e801bcc-e32c-45ff-b380-2c23f205cfee",
   "metadata": {},
   "outputs": [],
   "source": [
    "\n",
    "topic_repos_dict = {\n",
    "    'articleName': [],\n",
    "    'repo_url': [],\n",
    "    'date': [],\n",
    "    'text': []\n",
    "}\n",
    "headers = {\n",
    "    'User-Agent': 'Mozilla/5.0 (Windows NT 10.0; Win64; x64) AppleWebKit/537.36 (KHTML, like Gecko) Chrome/58.0.3029.110 Safari/537.36'\n",
    "}\n",
    "\n",
    "# Loop through each topic URL\n",
    "for topic_url in full_urls:\n",
    "    response = requests.get(topic_url, headers=headers)\n",
    "    \n",
    "    if response.status_code != 200:\n",
    "        print(f\"Failed to retrieve {topic_url}\")\n",
    "        continue\n",
    "    \n",
    "    topic_doc = BeautifulSoup(response.text, 'html.parser')\n",
    "    h2_selection_class = 'ArticleListing__title'\n",
    "    repo_tags = topic_doc.find_all('h2', {'class': h2_selection_class})\n",
    "    \n",
    "    # Function to extract repo info\n",
    "    def get_repo_info(h2_tag):\n",
    "        a_tag = h2_tag.find('a')\n",
    "        if not a_tag:\n",
    "            return None, None\n",
    "        username = a_tag.text.strip()\n",
    "        repo_url = a_tag['href']\n",
    "        return username, repo_url\n",
    "\n",
    "    # Process each repo/article (limited to first 5 articles for each topic)\n",
    "    for j in range(min(len(repo_tags), 5)):\n",
    "        repo_info = get_repo_info(repo_tags[j])\n",
    "        if not repo_info[1]:  # Skip if repo_url is None\n",
    "            continue\n",
    "        \n",
    "        topic_repos_dict['articleName'].append(repo_info[0])\n",
    "        topic_repos_dict['repo_url'].append(repo_info[1])\n",
    "\n",
    "        # Fetch the article page\n",
    "        article_url = repo_info[1]\n",
    "        article_response = requests.get(article_url, headers=headers)\n",
    "        \n",
    "        if article_response.status_code != 200:\n",
    "            print(f\"Failed to retrieve article: {article_url}\")\n",
    "            continue\n",
    "        \n",
    "        article_doc = BeautifulSoup(article_response.text, 'html.parser')\n",
    "        \n",
    "        # Extract article text\n",
    "        p_selection_class = 'border-top clearfix article-wrapper'\n",
    "        article_tags = article_doc.find_all('article', {'class': p_selection_class})\n",
    "        article_text = ' '.join(tag.get_text(strip=True) for tag in article_tags)\n",
    "        # article_text = article_tags.get_text(strip=True)\n",
    "        # Extract article date\n",
    "        time_tags = article_doc.find_all('time')\n",
    "        article_date = time_tags[0].text.strip() if time_tags else \"No date found\"\n",
    "        \n",
    "        # Append the article info\n",
    "        topic_repos_dict['date'].append(article_date)\n",
    "        topic_repos_dict['text'].append(article_text)\n",
    "\n"
   ]
  },
  {
   "cell_type": "code",
   "execution_count": 23,
   "id": "2ac3afb3-9dc6-4271-a79f-d6d8665ec972",
   "metadata": {},
   "outputs": [
    {
     "name": "stdout",
     "output_type": "stream",
     "text": [
      "CSV file created successfully!\n"
     ]
    }
   ],
   "source": [
    "\n",
    "\n",
    "import pandas as pd\n",
    "\n",
    "# Combine dictionaries into a single dataframe\n",
    "final_dict = {\n",
    "    'topic_title': [],\n",
    "    'article_title': [],\n",
    "    'article_url': [],\n",
    "    'article_date': [],\n",
    "    'article_text': []\n",
    "}\n",
    "\n",
    "# Define number of articles per topic dynamically\n",
    "articles_per_topic = 5\n",
    "num_topics = len(topics_dict['title'])\n",
    "\n",
    "# Ensure the topic_repos_dict contains enough data\n",
    "total_articles = len(topic_repos_dict['articleName'])\n",
    "\n",
    "# Iterate over topics\n",
    "for i in range(num_topics):\n",
    "    topic_title_draft = topics_dict['title'][i]\n",
    "    \n",
    "    start_index = i * articles_per_topic\n",
    "    end_index = min(start_index + articles_per_topic, total_articles)  # Ensure no out-of-range access\n",
    "    \n",
    "    # Check if there are fewer articles for this topic\n",
    "    if start_index >= total_articles:\n",
    "        break  # If starting index exceeds total articles, break the loop\n",
    "    \n",
    "    # Loop through articles for the current topic\n",
    "    for j in range(start_index, end_index):\n",
    "        # Safeguard for missing or incomplete data\n",
    "        if j < total_articles:\n",
    "            final_dict['topic_title'].append(topic_title_draft)\n",
    "            final_dict['article_title'].append(topic_repos_dict['articleName'][j])\n",
    "            final_dict['article_url'].append(topic_repos_dict['repo_url'][j])\n",
    "            final_dict['article_date'].append(topic_repos_dict['date'][j])\n",
    "            final_dict['article_text'].append(topic_repos_dict['text'][j])\n",
    "\n",
    "# Convert the final dictionary into a DataFrame\n",
    "final_df = pd.DataFrame(final_dict)\n",
    "\n",
    "# Export the dataframe to a CSV file\n",
    "final_df.to_csv('final_articles_ventureBeat.csv', index=False)\n",
    "final_df.to_json('final_articles_ventureBeat.json', orient='records')\n",
    "print(\"CSV file created successfully!\")\n"
   ]
  },
  {
   "cell_type": "code",
   "execution_count": null,
   "id": "ed035061-01ee-4c7d-b78a-2c30ae91559c",
   "metadata": {},
   "outputs": [],
   "source": []
  }
 ],
 "metadata": {
  "kernelspec": {
   "display_name": "Python 3",
   "language": "python",
   "name": "python3"
  },
  "language_info": {
   "codemirror_mode": {
    "name": "ipython",
    "version": 3
   },
   "file_extension": ".py",
   "mimetype": "text/x-python",
   "name": "python",
   "nbconvert_exporter": "python",
   "pygments_lexer": "ipython3",
   "version": "3.11.5"
  }
 },
 "nbformat": 4,
 "nbformat_minor": 5
}
